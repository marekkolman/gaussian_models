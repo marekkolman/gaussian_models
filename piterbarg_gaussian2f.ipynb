{
 "cells": [
  {
   "cell_type": "code",
   "execution_count": 1,
   "metadata": {},
   "outputs": [],
   "source": [
    "import pandas as pd\n",
    "import numpy as np\n",
    "from scipy.optimize import fsolve\n",
    "from scipy.stats import norm\n",
    "from tqdm.notebook import tqdm"
   ]
  },
  {
   "cell_type": "code",
   "execution_count": 2,
   "metadata": {},
   "outputs": [],
   "source": [
    "sigma11 = 0.06\n",
    "sigma12 = 0.00\n",
    "sigma21 = 0.04\n",
    "sigma22 = 0.03\n",
    "\n",
    "kappa1  = 0.05\n",
    "kappa2  = 0.06\n",
    "\n",
    "sigmas = np.array([[sigma11, sigma12], \n",
    "                   [sigma21, sigma22]])\n",
    "kappas = np.array([kappa1, kappa2])\n",
    "\n",
    "ycrv_t     = [0.01, 1, 2, 3, 5, 10, 20, 30]\n",
    "ycrv_rates = [0.03,0.031, 0.033, 0.037, 0.04, 0.042, 0.046, 0.05]"
   ]
  },
  {
   "cell_type": "code",
   "execution_count": 40,
   "metadata": {},
   "outputs": [],
   "source": [
    "def g(t, sigmas, kappas):\n",
    "    return sigmas*np.exp(t*kappas)\n",
    "\n",
    "def h(t, kappas):\n",
    "    return np.exp(-t*kappas)\n",
    "\n",
    "def H(t, kappas):\n",
    "    return np.diag(h(t,kappas))\n",
    "    \n",
    "def sigmax(sigmas):\n",
    "    sig_x = np.copy(sigmas)\n",
    "    sig_x[0,1] = 0 #sigma12 = 0\n",
    "    return sig_x\n",
    "\n",
    "def sigmap(t, T, sigmas, kappas):\n",
    "    h_integral = ((np.exp(-kappas*t)-np.exp(-kappas*T))/kappas)\n",
    "    return g(t, sigmas, kappas) @ h_integral\n",
    "\n",
    "def kappa_mat(kappas):\n",
    "    return np.diag(kappas)\n",
    "\n",
    "def M(t, T, kappas):\n",
    "    return np.exp(-(T-t)*kappas)\n",
    "\n",
    "def G(t, T, kappas):\n",
    "    return (1.0-np.exp(-(T-t)*kappas))/kappas\n",
    "\n",
    "def y(t, sigmas, kappas):\n",
    "    kappa1, kappa2 = kappas\n",
    "    sigma11, sigma12, sigma21, sigma22 = sigmas.flatten()\n",
    "    gg11 = (np.exp(2*kappa1*t)-1)*(sigma11**2 + sigma21**2)/(2*kappa1)\n",
    "    gg12 = (np.exp(sum(kappas)*t)-1)*(sigma11*sigma12+sigma21*sigma22)/sum(kappas)\n",
    "    gg21 = gg12\n",
    "    gg22 = (np.exp(2*kappa2*t)-1)*(sigma12**2 + sigma22**2)/(2*kappa2)\n",
    "    gg_integral = np.array([[gg11, gg12], [gg21, gg22]])\n",
    "    return H(t, kappas) @ gg_integral @ H(t, kappas)\n",
    "\n",
    "def P(t,T, Pt, PT, sigmas, kappas, x):\n",
    "    ''' \n",
    "        Function computes bond price given x = x(t): P(t, T| x(t) = x)\n",
    "    '''\n",
    "    A = -0.5* G(t, T, kappas) @ y(t, sigmas, kappas) @ G(t, T, kappas)\n",
    "    return PT/Pt*np.exp(-G(t, T, kappas) @ np.array(x) + A)\n",
    "\n",
    "def var(T, sigmas, kappas):\n",
    "    sigma_square_sums = (np.transpose(sigmas)**2).sum(axis = 1)\n",
    "    return (1-np.exp(-2*kappas*T))/(2*kappas)*sigma_square_sums\n",
    "\n",
    "def cov(T, sigmas, kappas):\n",
    "    kappa_integral = (1-np.exp(-sum(kappas)*T))/sum(kappas)\n",
    "    return sum(sigmas.prod(axis = 1))*kappa_integral\n",
    "    \n",
    "def mu1_cond(T, sigmas, kappas, x2):\n",
    "    return cov(T, sigmas, kappas)/var(T,sigmas,kappas)[1]*x2\n",
    "\n",
    "def s1_sq_cond(T, sigmas, kappas):\n",
    "    var1, var2 = var(T, sigmas, kappas)\n",
    "    return var1 - (cov(T,sigmas, kappas)**2)/var2\n",
    "    \n",
    "def v(t, sigmas, kappas):\n",
    "    return np.sum(y(t, sigmas, kappas), axis = 1)\n",
    "\n",
    "def vT0(t, T0, sigmas, kappas):\n",
    "    return v(t, sigmas, kappas) - np.transpose(sigmas) @ sigmap(t, T0, sigmas, kappas)"
   ]
  },
  {
   "cell_type": "code",
   "execution_count": 56,
   "metadata": {},
   "outputs": [],
   "source": [
    "def disc(t, ycrv_t, ycrv_rates, freq = 2):\n",
    "    return 1.0/(1.0+np.interp(np.array(t), ycrv_t, ycrv_rates)/freq)**(freq * np.array(t))\n",
    "\n",
    "\n",
    "def swap_value(w, K, T0, TN, freq, sigmas, kappas, ycrv_t, ycrv_rates, x):\n",
    "    # w=-1 payer swap; w=1 receiver swap\n",
    "    yearfrac = 1/freq\n",
    "    coupon_times = np.arange(T0+yearfrac, TN+0.0001, yearfrac)\n",
    "    PT0 = disc(T0, ycrv_t, ycrv_rates)\n",
    "    PTi = disc(coupon_times, ycrv_t, ycrv_rates)\n",
    "    bond_prices = np.zeros_like(coupon_times)\n",
    "    for i in range(len(coupon_times)):\n",
    "        bond_prices[i] = P(T0, coupon_times[i], PT0, PTi[i], sigmas, kappas, x)\n",
    "    return -w*1 + w*bond_prices[-1] + w*K*yearfrac*bond_prices.sum()\n",
    "\n",
    "def get_strikes(w, K, T0, TN, freq, sigmas, kappas, ycrv_t, ycrv_rates, x2):\n",
    "    '''\n",
    "        For a given x2, find critical x1 = x1*(x2) and compute strikes Ki=P(T0,Ti, x1, x2) \n",
    "        for Jamshidian decomposition\n",
    "    '''\n",
    "    x1_crit = fsolve(lambda x1: swap_value(w, K, T0, TN, freq, sigmas, kappas, ycrv_t, ycrv_rates, [x1, x2]),\n",
    "                     x0 = [0])[0]\n",
    "    x = [x1_crit, x2]\n",
    "    yearfrac = 1/freq\n",
    "    coupon_times = np.arange(T0+yearfrac, TN+0.0001, yearfrac)\n",
    "    Ki = []\n",
    "    PT0 = disc(T0, ycrv_t, ycrv_rates, freq = 2)\n",
    "    for Ti in coupon_times:\n",
    "        Ki.append(P(T0, Ti, PT0, disc(Ti, ycrv_t, ycrv_rates, freq = 2), sigmas, kappas, x))\n",
    "    return coupon_times, Ki\n",
    "\n",
    "def bond_put_option(T, s, K, sigmas, kappas, ycrv_t, ycrv_rates, x2):\n",
    "    df        = lambda t: disc(t, ycrv_t, ycrv_rates, freq = 2)\n",
    "    variances = var(T, sigmas, kappas)\n",
    "    covs      = cov(T, sigmas, kappas)\n",
    "    mu1       = mu1_cond(T, sigmas, kappas, x2)\n",
    "    s1_sq     = s1_sq_cond(T, sigmas, kappas)\n",
    "    G1, G2    = G(T, s, kappas)\n",
    "    omega     = -mu1*G1 + 0.5*(G1**2)*s1_sq\n",
    "    A         = -0.5* G(T, s, kappas) @ y(T, sigmas, kappas) @ G(T, s, kappas)\n",
    "    \n",
    "    K_star    = df(T)/df(s)*np.exp(-A+x2*G2)*K\n",
    "    d = lambda sign: (omega-np.log(K_star)+sign*0.5*(G1**2)*s1_sq)/(G1*np.sqrt(s1_sq))\n",
    "    \n",
    "    value = df(s)*np.exp(A-x2*G2)*(K_star*norm.cdf(-d(-1))-np.exp(omega)*norm.cdf(-d(1)))\n",
    "    return value\n",
    "\n",
    "def bond_call_option(T, s, K, sigmas, kappas, ycrv_t, ycrv_rates, x2):\n",
    "    df        = lambda t: disc(t, ycrv_t, ycrv_rates, freq = 2)\n",
    "    variances = var(T, sigmas, kappas)\n",
    "    covs      = cov(T, sigmas, kappas)\n",
    "    mu1       = mu1_cond(T, sigmas, kappas, x2)\n",
    "    s1_sq     = s1_sq_cond(T, sigmas, kappas)\n",
    "    G1, G2    = G(T, s, kappas)\n",
    "    omega     = -mu1*G1 + 0.5*(G1**2)*s1_sq\n",
    "    A         = -0.5* G(T, s, kappas) @ y(T, sigmas, kappas) @ G(T, s, kappas)\n",
    "    \n",
    "    K_star    = df(T)/df(s)*np.exp(-A+x2*G2)*K\n",
    "    d = lambda sign: (omega-np.log(K_star)+sign*0.5*(G1**2)*s1_sq)/(G1*np.sqrt(s1_sq))\n",
    "    \n",
    "    value = df(s)*np.exp(A-x2*G2)*(np.exp(omega)*norm.cdf(d(1))-K_star*norm.cdf(d(-1)))\n",
    "    return value\n",
    "\n",
    "def payer_swaption(K, T0, TN, freq, sigmas, kappas, ycrv_t, ycrv_rates):\n",
    "    \n",
    "    def payer_swaption_x2_cond(K, T0, TN, freq, sigmas, kappas, ycrv_t, ycrv_rates, x2):\n",
    "        coupon_times, strikes = get_strikes(-1, K, T0, TN, freq, sigmas, kappas, ycrv_t, ycrv_rates, x2)\n",
    "        bond_option = []\n",
    "        for Ti, Ki in zip(coupon_times, strikes):\n",
    "            bond_option.append(bond_put_option(T0, Ti, Ki, sigmas, kappas, ycrv_t, ycrv_rates, x2))    \n",
    "        var_x2 = var(T0, sigmas, kappas)[1]\n",
    "        return (bond_option[-1]+K*1/freq*sum(bond_option))/np.sqrt(var_x2)*norm.pdf(x2/np.sqrt(var_x2))\n",
    "        \n",
    "    x2_grid = np.linspace(-0.35, 0.35, 800)\n",
    "    swaption_val_x2 = []\n",
    "    for x2 in x2_grid:\n",
    "        swaption_val_x2.append(payer_swaption_x2_cond(K, T0, TN, freq, sigmas, kappas, ycrv_t, ycrv_rates, x2))\n",
    "    \n",
    "    return np.trapz(swaption_val_x2, x2_grid)\n",
    "\n",
    "def receiver_swaption(K, T0, TN, freq, sigmas, kappas, ycrv_t, ycrv_rates):\n",
    "    \n",
    "    def receiver_swaption_x2_cond(K, T0, TN, freq, sigmas, kappas, ycrv_t, ycrv_rates, x2):\n",
    "        coupon_times, strikes = get_strikes(-1, K, T0, TN, freq, sigmas, kappas, ycrv_t, ycrv_rates, x2)\n",
    "        bond_option = []\n",
    "        for Ti, Ki in zip(coupon_times, strikes):\n",
    "            bond_option.append(bond_call_option(T0, Ti, Ki, sigmas, kappas, ycrv_t, ycrv_rates, x2))    \n",
    "        var_x2 = var(T0, sigmas, kappas)[1]\n",
    "        return (bond_option[-1]+K*1/freq*sum(bond_option))/np.sqrt(var_x2)*norm.pdf(x2/np.sqrt(var_x2))\n",
    "        \n",
    "    x2_grid = np.linspace(-0.35, 0.35, 800)\n",
    "    swaption_val_x2 = []\n",
    "    for x2 in x2_grid:\n",
    "        swaption_val_x2.append(receiver_swaption_x2_cond(K, T0, TN, freq, sigmas, kappas, ycrv_t, ycrv_rates, x2))\n",
    "    \n",
    "    return np.trapz(swaption_val_x2, x2_grid)\n",
    "\n",
    "def q(t, T0, TN, sigmas, kappas, ycrv_t, ycrv_rates, x = [0.0, 0.0], freq = 2):\n",
    "    Pt = disc(t, ycrv_t, ycrv_rates, freq = 2)\n",
    "    yearfrac = 1/freq\n",
    "    times = np.arange(T0, TN+0.0001, yearfrac)\n",
    "    bond_prices = []\n",
    "    G_vals = []\n",
    "    for T in times:\n",
    "        bond_prices.append(P(t,T, Pt, disc(T, ycrv_t, ycrv_rates, freq = 2), sigmas, kappas, x))\n",
    "        G_vals.append(G(t, T, kappas))\n",
    "    bond_prices = np.array(bond_prices)\n",
    "    G_vals = np.array(G_vals)\n",
    "    G1_vals, G2_vals = G_vals[:,0], G_vals[:,1]\n",
    "    \n",
    "    A = yearfrac * bond_prices[1:].sum()\n",
    "    S = (bond_prices[0] - bond_prices[-1])/A\n",
    "    \n",
    "    q1 =(bond_prices[0]*G1_vals[0]-bond_prices[-1]*G1_vals[-1])/A-S*yearfrac*(G1_vals[1:]*bond_prices[1:]).sum()/A\n",
    "    q2 =(bond_prices[0]*G2_vals[0]-bond_prices[-1]*G2_vals[-1])/A-S*yearfrac*(G2_vals[1:]*bond_prices[1:]).sum()/A\n",
    "    \n",
    "    return np.array([q1, q2])\n",
    "    \n",
    "def payer_swaption_approx(K, T0, TN, sigmas, kappas, ycrv_t, ycrv_rates, x = [0.0, 0.0], freq = 2):\n",
    "    \n",
    "    integrand = lambda t: np.linalg.norm(q(t,T0,TN,sigmas,kappas,ycrv_t,ycrv_rates,x,freq) @ np.transpose(sigmas))**2\n",
    "    t_grid = np.linspace(0,T0, 100)\n",
    "    integrand_val = []\n",
    "    for t in t_grid:\n",
    "        integrand_val.append(integrand(t))\n",
    "    v = np.trapz(integrand_val, t_grid)\n",
    "    \n",
    "    yearfrac = 1/freq\n",
    "    times = np.arange(T0, TN+0.0001, yearfrac)\n",
    "    bond_prices = disc(times, ycrv_t, ycrv_rates, freq = 2)\n",
    "    A = yearfrac * bond_prices[1:].sum()\n",
    "    S = (bond_prices[0]-bond_prices[-1])/A\n",
    "    d = (S - K)/np.sqrt(v)\n",
    "    return A*((S-K)*norm.cdf(d)+np.sqrt(v)*norm.pdf(d))\n",
    "\n",
    "def receiver_swaption_approx(K, T0, TN, sigmas, kappas, ycrv_t, ycrv_rates, x = [0.0, 0.0], freq = 2):\n",
    "    \n",
    "    integrand = lambda t: np.linalg.norm(q(t,T0,TN,sigmas,kappas,ycrv_t,ycrv_rates,x,freq) @ np.transpose(sigmas))**2\n",
    "    t_grid = np.linspace(0,T0, 100)\n",
    "    integrand_val = []\n",
    "    for t in t_grid:\n",
    "        integrand_val.append(integrand(t))\n",
    "    v = np.trapz(integrand_val, t_grid)\n",
    "    \n",
    "    yearfrac = 1/freq\n",
    "    times = np.arange(T0, TN+0.0001, yearfrac)\n",
    "    bond_prices = disc(times, ycrv_t, ycrv_rates, freq = 2)\n",
    "    A = yearfrac * bond_prices[1:].sum()\n",
    "    S = (bond_prices[0]-bond_prices[-1])/A\n",
    "    d = (S - K)/np.sqrt(v)\n",
    "    return A*((K-S)*norm.cdf(-d)+np.sqrt(v)*norm.pdf(-d))"
   ]
  },
  {
   "cell_type": "code",
   "execution_count": null,
   "metadata": {},
   "outputs": [],
   "source": []
  },
  {
   "cell_type": "code",
   "execution_count": 59,
   "metadata": {},
   "outputs": [
    {
     "name": "stdout",
     "output_type": "stream",
     "text": [
      "0.15669065319192452\n",
      "0.21512913800078298\n",
      "0.1582501718375755\n",
      "0.21668865664643377\n"
     ]
    }
   ],
   "source": [
    "swap_value(-1, 0.058, 2, 7, 2, sigmas, kappas, ycrv_t, ycrv_rates, x = [0.00, 0.00])\n",
    "#find_critical_x1(-1, 0.058, 2, 7, 2, sigmas, kappas, ycrv_t, ycrv_rates, x2 = 0.0)\n",
    "get_strikes(-1, 0.058, 2, 7, 2, sigmas, kappas, ycrv_t, ycrv_rates, x2 = 0)\n",
    "bond_put_option(T=1, s=5, K=0.79, sigmas=sigmas, kappas=kappas, ycrv_t=ycrv_t, ycrv_rates=ycrv_rates, x2=0.0)\n",
    "print(payer_swaption(0.058, 2, 7, 2, sigmas, kappas, ycrv_t, ycrv_rates))\n",
    "print(receiver_swaption(0.058, 2, 7, 2, sigmas, kappas, ycrv_t, ycrv_rates))\n",
    "#q(0, 2, 7, sigmas, kappas, ycrv_t, ycrv_rates, x = [0.0, 0.0], freq = 2)\n",
    "print(payer_swaption_approx(0.058, 2, 7, sigmas, kappas, ycrv_t, ycrv_rates, x = [0.0, 0.0], freq = 2))\n",
    "print(receiver_swaption_approx(0.058, 2, 7, sigmas, kappas, ycrv_t, ycrv_rates, x = [0.0, 0.0], freq = 2))"
   ]
  },
  {
   "cell_type": "code",
   "execution_count": null,
   "metadata": {},
   "outputs": [],
   "source": []
  },
  {
   "cell_type": "code",
   "execution_count": 46,
   "metadata": {},
   "outputs": [
    {
     "data": {
      "application/vnd.jupyter.widget-view+json": {
       "model_id": "6a986d9bbf1b4f4da30cd81acd6fc3fe",
       "version_major": 2,
       "version_minor": 0
      },
      "text/plain": [
       "HBox(children=(FloatProgress(value=0.0, max=10000.0), HTML(value='')))"
      ]
     },
     "metadata": {},
     "output_type": "display_data"
    },
    {
     "name": "stdout",
     "output_type": "stream",
     "text": [
      "\n"
     ]
    },
    {
     "ename": "TypeError",
     "evalue": "payoff() missing 5 required positional arguments: 'T0', 'TN', 'K', 'ycrv_t', and 'ycrv_rates'",
     "output_type": "error",
     "traceback": [
      "\u001b[0;31m---------------------------------------------------------------------------\u001b[0m",
      "\u001b[0;31mTypeError\u001b[0m                                 Traceback (most recent call last)",
      "\u001b[0;32m<ipython-input-46-ad20da5f9784>\u001b[0m in \u001b[0;36m<module>\u001b[0;34m\u001b[0m\n\u001b[1;32m     29\u001b[0m \u001b[0mx_final\u001b[0m \u001b[0;34m=\u001b[0m \u001b[0msimulate_x\u001b[0m\u001b[0;34m(\u001b[0m\u001b[0mn_simuls\u001b[0m\u001b[0;34m,\u001b[0m \u001b[0mT0\u001b[0m\u001b[0;34m,\u001b[0m \u001b[0msigmas\u001b[0m\u001b[0;34m,\u001b[0m \u001b[0mkappas\u001b[0m\u001b[0;34m,\u001b[0m \u001b[0mdt\u001b[0m\u001b[0;34m)\u001b[0m\u001b[0;34m\u001b[0m\u001b[0;34m\u001b[0m\u001b[0m\n\u001b[1;32m     30\u001b[0m \u001b[0;32mfor\u001b[0m \u001b[0mi\u001b[0m \u001b[0;32min\u001b[0m \u001b[0mrange\u001b[0m\u001b[0;34m(\u001b[0m\u001b[0mlen\u001b[0m\u001b[0;34m(\u001b[0m\u001b[0mx_final\u001b[0m\u001b[0;34m)\u001b[0m\u001b[0;34m)\u001b[0m\u001b[0;34m:\u001b[0m\u001b[0;34m\u001b[0m\u001b[0;34m\u001b[0m\u001b[0m\n\u001b[0;32m---> 31\u001b[0;31m     \u001b[0mpayoffs\u001b[0m\u001b[0;34m.\u001b[0m\u001b[0mappend\u001b[0m\u001b[0;34m(\u001b[0m\u001b[0mpayoff\u001b[0m\u001b[0;34m(\u001b[0m\u001b[0mx_final\u001b[0m\u001b[0;34m[\u001b[0m\u001b[0mi\u001b[0m\u001b[0;34m,\u001b[0m\u001b[0;34m:\u001b[0m\u001b[0;34m]\u001b[0m\u001b[0;34m)\u001b[0m\u001b[0;34m,\u001b[0m \u001b[0;36m2\u001b[0m\u001b[0;34m,\u001b[0m \u001b[0;36m7\u001b[0m\u001b[0;34m,\u001b[0m \u001b[0;36m0.058\u001b[0m\u001b[0;34m,\u001b[0m \u001b[0mycrv_t\u001b[0m\u001b[0;34m,\u001b[0m \u001b[0mycrv_rates\u001b[0m\u001b[0;34m,\u001b[0m \u001b[0mfreq\u001b[0m \u001b[0;34m=\u001b[0m \u001b[0;36m2\u001b[0m\u001b[0;34m)\u001b[0m\u001b[0;34m\u001b[0m\u001b[0;34m\u001b[0m\u001b[0m\n\u001b[0m\u001b[1;32m     32\u001b[0m \u001b[0;34m\u001b[0m\u001b[0m\n\u001b[1;32m     33\u001b[0m \u001b[0mpd\u001b[0m\u001b[0;34m.\u001b[0m\u001b[0mSeries\u001b[0m\u001b[0;34m(\u001b[0m\u001b[0mpayoffs\u001b[0m\u001b[0;34m)\u001b[0m\u001b[0;34m.\u001b[0m\u001b[0mmean\u001b[0m\u001b[0;34m(\u001b[0m\u001b[0;34m)\u001b[0m\u001b[0;34m*\u001b[0m\u001b[0mdisc\u001b[0m\u001b[0;34m(\u001b[0m\u001b[0mT0\u001b[0m\u001b[0;34m,\u001b[0m \u001b[0mycrv_t\u001b[0m\u001b[0;34m,\u001b[0m \u001b[0mycrv_rates\u001b[0m\u001b[0;34m,\u001b[0m\u001b[0;36m2\u001b[0m\u001b[0;34m)\u001b[0m\u001b[0;34m\u001b[0m\u001b[0;34m\u001b[0m\u001b[0m\n",
      "\u001b[0;31mTypeError\u001b[0m: payoff() missing 5 required positional arguments: 'T0', 'TN', 'K', 'ycrv_t', and 'ycrv_rates'"
     ]
    }
   ],
   "source": [
    "dt = 1/252\n",
    "T0 = 2\n",
    "TN = 7\n",
    "K  = 0.058\n",
    "n_simuls = 10000\n",
    "\n",
    "def simulate_x(n_simuls, T0, sigmas, kappas, dt):\n",
    "    t_grid = np.arange(dt, T0+0.0001, dt)\n",
    "    dW = lambda: np.sqrt(dt)*np.random.normal(size = 2)\n",
    "    x_final = []\n",
    "    \n",
    "    for simul in tqdm(range(n_simuls)):\n",
    "        x = np.array([0.0, 0.0])\n",
    "        for t in t_grid:\n",
    "            x += (vT0(t, T0, sigmas, kappas) - kappas * x)*dt + np.transpose(sigmas) @ dW()\n",
    "        x_final.append(x)\n",
    "    return np.array(x_final)\n",
    "\n",
    "def payoff(x, T0, TN, K, ycrv_t, ycrv_rates, freq = 2):\n",
    "    yearfrac = 1/freq\n",
    "    times = np.arange(T0+yearfrac, TN+0.0001, yearfrac)\n",
    "    PT0 = disc(T0, ycrv_t, ycrv_rates, freq = 2)\n",
    "    bond_prices = []\n",
    "    for Ti in times:\n",
    "        bond_prices.append(P(T0,Ti, PT0, disc(Ti, ycrv_t, ycrv_rates, 2), sigmas, kappas, x))\n",
    "    return np.max([-(1 - bond_prices[-1] - K*yearfrac*sum(bond_prices)),0])\n",
    "\n",
    "payoffs = []\n",
    "x_final = simulate_x(n_simuls, T0, sigmas, kappas, dt)\n",
    "for i in range(len(x_final)):\n",
    "    payoffs.append(payoff(x_final[i,:]), 2, 7, 0.058, ycrv_t, ycrv_rates, freq = 2)\n",
    "    \n",
    "pd.Series(payoffs).mean()*disc(T0, ycrv_t, ycrv_rates,2)"
   ]
  },
  {
   "cell_type": "code",
   "execution_count": 49,
   "metadata": {},
   "outputs": [],
   "source": [
    "for i in range(len(x_final)):\n",
    "    payoffs.append(payoff(x_final[i,:], 2, 7, 0.058, ycrv_t, ycrv_rates, freq = 2))"
   ]
  },
  {
   "cell_type": "code",
   "execution_count": 48,
   "metadata": {},
   "outputs": [
    {
     "ename": "TypeError",
     "evalue": "payoff() missing 5 required positional arguments: 'T0', 'TN', 'K', 'ycrv_t', and 'ycrv_rates'",
     "output_type": "error",
     "traceback": [
      "\u001b[0;31m---------------------------------------------------------------------------\u001b[0m",
      "\u001b[0;31mTypeError\u001b[0m                                 Traceback (most recent call last)",
      "\u001b[0;32m<ipython-input-48-2924e5e259bd>\u001b[0m in \u001b[0;36m<module>\u001b[0;34m\u001b[0m\n\u001b[0;32m----> 1\u001b[0;31m \u001b[0mpayoff\u001b[0m\u001b[0;34m(\u001b[0m\u001b[0mx_final\u001b[0m\u001b[0;34m[\u001b[0m\u001b[0mi\u001b[0m\u001b[0;34m,\u001b[0m\u001b[0;34m:\u001b[0m\u001b[0;34m]\u001b[0m\u001b[0;34m)\u001b[0m\u001b[0;34m\u001b[0m\u001b[0;34m\u001b[0m\u001b[0m\n\u001b[0m",
      "\u001b[0;31mTypeError\u001b[0m: payoff() missing 5 required positional arguments: 'T0', 'TN', 'K', 'ycrv_t', and 'ycrv_rates'"
     ]
    }
   ],
   "source": [
    "payoff(x_final[i,:])"
   ]
  },
  {
   "cell_type": "code",
   "execution_count": 50,
   "metadata": {},
   "outputs": [
    {
     "data": {
      "text/plain": [
       "0.21687733351572594"
      ]
     },
     "execution_count": 50,
     "metadata": {},
     "output_type": "execute_result"
    }
   ],
   "source": [
    "pd.Series(payoffs).mean()*disc(T0, ycrv_t, ycrv_rates,2)"
   ]
  },
  {
   "cell_type": "code",
   "execution_count": null,
   "metadata": {},
   "outputs": [],
   "source": [
    "(1-np.exp(-2*kappas*10))/(2*kappas)"
   ]
  },
  {
   "cell_type": "code",
   "execution_count": null,
   "metadata": {},
   "outputs": [],
   "source": [
    "y(1, sigmas, kappas)"
   ]
  },
  {
   "cell_type": "code",
   "execution_count": null,
   "metadata": {},
   "outputs": [],
   "source": [
    "vT0(1, 3, sigmas, kappas)"
   ]
  },
  {
   "cell_type": "code",
   "execution_count": null,
   "metadata": {},
   "outputs": [],
   "source": [
    "np.transpose(sigmas) @ sigmap(1, 3, sigmas, kappas)"
   ]
  },
  {
   "cell_type": "code",
   "execution_count": null,
   "metadata": {},
   "outputs": [],
   "source": [
    "sigmap(1, 3, sigmas, kappas)"
   ]
  },
  {
   "cell_type": "code",
   "execution_count": null,
   "metadata": {},
   "outputs": [],
   "source": [
    "sigmap(1, 10, sigmas, kappas)"
   ]
  },
  {
   "cell_type": "code",
   "execution_count": null,
   "metadata": {},
   "outputs": [],
   "source": [
    "np.linalg.norm([1, 2])"
   ]
  },
  {
   "cell_type": "code",
   "execution_count": null,
   "metadata": {},
   "outputs": [],
   "source": []
  },
  {
   "cell_type": "code",
   "execution_count": 2,
   "metadata": {},
   "outputs": [
    {
     "data": {
      "text/plain": [
       "array([[1, 2],\n",
       "       [1, 2]])"
      ]
     },
     "execution_count": 2,
     "metadata": {},
     "output_type": "execute_result"
    }
   ],
   "source": [
    "np.array([[1, 1],[1, 1]])*np.array([1, 2])"
   ]
  },
  {
   "cell_type": "code",
   "execution_count": null,
   "metadata": {},
   "outputs": [],
   "source": []
  }
 ],
 "metadata": {
  "kernelspec": {
   "display_name": "Python 3",
   "language": "python",
   "name": "python3"
  },
  "language_info": {
   "codemirror_mode": {
    "name": "ipython",
    "version": 3
   },
   "file_extension": ".py",
   "mimetype": "text/x-python",
   "name": "python",
   "nbconvert_exporter": "python",
   "pygments_lexer": "ipython3",
   "version": "3.7.5"
  }
 },
 "nbformat": 4,
 "nbformat_minor": 2
}
